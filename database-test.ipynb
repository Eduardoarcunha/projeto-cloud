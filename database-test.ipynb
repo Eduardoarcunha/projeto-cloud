{
 "cells": [
  {
   "cell_type": "code",
   "execution_count": 1,
   "metadata": {},
   "outputs": [],
   "source": [
    "import mysql.connector\n",
    "\n",
    "# Establishing the connection\n",
    "conn = mysql.connector.connect(\n",
    "    user='admin',\n",
    "    host='127.0.0.1',\n",
    "    port=8001,\n",
    "    password='admineduardo'\n",
    ")"
   ]
  },
  {
   "cell_type": "code",
   "execution_count": 5,
   "metadata": {},
   "outputs": [
    {
     "name": "stdout",
     "output_type": "stream",
     "text": [
      "[(1, 'Pikachu', 'Electric'), (2, 'Pikachu', 'Electric'), (3, 'Pikachu', 'Electric')]\n"
     ]
    },
    {
     "data": {
      "text/plain": [
       "True"
      ]
     },
     "execution_count": 5,
     "metadata": {},
     "output_type": "execute_result"
    }
   ],
   "source": [
    "# Performing some database operations\n",
    "cursor = conn.cursor()\n",
    "# Create a database if it doesn't exist\n",
    "cursor.execute(\"CREATE DATABASE IF NOT EXISTS pokemon\")\n",
    "\n",
    "# Use the database\n",
    "cursor.execute(\"USE pokemon\")\n",
    "\n",
    "# Create a table pokemon\n",
    "cursor.execute(\"CREATE TABLE IF NOT EXISTS pokemon (id INT AUTO_INCREMENT PRIMARY KEY, name VARCHAR(255), type VARCHAR(255))\")\n",
    "cursor.execute(\"INSERT INTO pokemon (name, type) VALUES (%s, %s)\", (\"Pikachu\", \"Electric\"))\n",
    "cursor.execute(\"SELECT * FROM pokemon\")\n",
    "\n",
    "result = cursor.fetchall()\n",
    "print(result)\n",
    "\n",
    "\n",
    "# Closing the connection\n",
    "cursor.close()"
   ]
  },
  {
   "cell_type": "code",
   "execution_count": 5,
   "metadata": {},
   "outputs": [],
   "source": [
    "# Commiting the changes\n",
    "conn.commit()"
   ]
  },
  {
   "cell_type": "code",
   "execution_count": 6,
   "metadata": {},
   "outputs": [],
   "source": [
    "conn.close()"
   ]
  }
 ],
 "metadata": {
  "kernelspec": {
   "display_name": "Python 3",
   "language": "python",
   "name": "python3"
  },
  "language_info": {
   "codemirror_mode": {
    "name": "ipython",
    "version": 3
   },
   "file_extension": ".py",
   "mimetype": "text/x-python",
   "name": "python",
   "nbconvert_exporter": "python",
   "pygments_lexer": "ipython3",
   "version": "3.11.1"
  },
  "orig_nbformat": 4
 },
 "nbformat": 4,
 "nbformat_minor": 2
}
