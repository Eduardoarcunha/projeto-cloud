{
 "cells": [
  {
   "cell_type": "markdown",
   "metadata": {},
   "source": [
    "## Teste de conexão com banco de dados RDS"
   ]
  },
  {
   "cell_type": "markdown",
   "metadata": {},
   "source": [
    "#### Instalando dependências e criando conexão"
   ]
  },
  {
   "cell_type": "code",
   "execution_count": null,
   "metadata": {},
   "outputs": [],
   "source": [
    "!pip install mysql-connector-python "
   ]
  },
  {
   "cell_type": "markdown",
   "metadata": {},
   "source": [
    "Se der ao importar a biblioteca tente reiniciar o terminal ou acessar [este link](https://bobbyhadz.com/blog/python-no-module-named-mysql)."
   ]
  },
  {
   "cell_type": "code",
   "execution_count": null,
   "metadata": {},
   "outputs": [],
   "source": [
    "import mysql.connector\n",
    "\n",
    "# Establishing the connection\n",
    "conn = mysql.connector.connect(\n",
    "    user='admin',\n",
    "    host='127.0.0.1',\n",
    "    port=8001,\n",
    "    password='adminrds'\n",
    ")"
   ]
  },
  {
   "cell_type": "markdown",
   "metadata": {},
   "source": [
    "#### Query teste"
   ]
  },
  {
   "cell_type": "code",
   "execution_count": null,
   "metadata": {},
   "outputs": [],
   "source": [
    "# Performing some database operations\n",
    "cursor = conn.cursor()\n",
    "\n",
    "cursor.execute(\"CREATE DATABASE IF NOT EXISTS pokemon\")\n",
    "cursor.execute(\"USE pokemon\")\n",
    "\n",
    "# Create a table pokemon\n",
    "cursor.execute(\"CREATE TABLE IF NOT EXISTS pokemon (id INT AUTO_INCREMENT PRIMARY KEY, name VARCHAR(255), type VARCHAR(255))\")\n",
    "cursor.execute(\"INSERT INTO pokemon (name, type) VALUES (%s, %s)\", (\"Pikachu\", \"Electric\"))\n",
    "cursor.execute(\"INSERT INTO pokemon (name, type) VALUES (%s, %s)\", (\"Squirtle\", \"Water\"))\n",
    "cursor.execute(\"INSERT INTO pokemon (name, type) VALUES (%s, %s)\", (\"Charmander\", \"Fire\"))\n",
    "cursor.execute(\"INSERT INTO pokemon (name, type) VALUES (%s, %s)\", (\"Bulbasaur\", \"Grass\"))\n",
    "cursor.execute(\"SELECT * FROM pokemon\")\n",
    "\n",
    "result = cursor.fetchall()\n",
    "print(result)\n",
    "\n",
    "cursor.close()"
   ]
  },
  {
   "cell_type": "markdown",
   "metadata": {},
   "source": [
    "#### Commit alterações e fechando conexão "
   ]
  },
  {
   "cell_type": "code",
   "execution_count": null,
   "metadata": {},
   "outputs": [],
   "source": [
    "#Commiting the changes\n",
    "conn.commit()"
   ]
  },
  {
   "cell_type": "code",
   "execution_count": null,
   "metadata": {},
   "outputs": [],
   "source": [
    "conn.close()"
   ]
  },
  {
   "cell_type": "code",
   "execution_count": null,
   "metadata": {},
   "outputs": [],
   "source": []
  }
 ],
 "metadata": {
  "kernelspec": {
   "display_name": "Python 3",
   "language": "python",
   "name": "python3"
  },
  "language_info": {
   "codemirror_mode": {
    "name": "ipython",
    "version": 3
   },
   "file_extension": ".py",
   "mimetype": "text/x-python",
   "name": "python",
   "nbconvert_exporter": "python",
   "pygments_lexer": "ipython3",
   "version": "3.7.3"
  },
  "vscode": {
   "interpreter": {
    "hash": "916dbcbb3f70747c44a77c7bcd40155683ae19c65e1c03b4aa3499c5328201f1"
   }
  }
 },
 "nbformat": 4,
 "nbformat_minor": 2
}
